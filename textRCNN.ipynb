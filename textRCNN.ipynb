{
 "cells": [
  {
   "cell_type": "code",
   "execution_count": 1,
   "metadata": {},
   "outputs": [
    {
     "name": "stderr",
     "output_type": "stream",
     "text": [
      "/home/ec2-user/anaconda3/envs/tensorflow_p36/lib/python3.6/site-packages/h5py/__init__.py:36: FutureWarning: Conversion of the second argument of issubdtype from `float` to `np.floating` is deprecated. In future, it will be treated as `np.float64 == np.dtype(float).type`.\n",
      "  from ._conv import register_converters as _register_converters\n",
      "Using TensorFlow backend.\n",
      "/home/ec2-user/anaconda3/envs/tensorflow_p36/lib/python3.6/site-packages/matplotlib/__init__.py:962: UserWarning: Duplicate key in file \"/home/ec2-user/.config/matplotlib/matplotlibrc\", line #2\n",
      "  (fname, cnt))\n",
      "/home/ec2-user/anaconda3/envs/tensorflow_p36/lib/python3.6/site-packages/matplotlib/__init__.py:962: UserWarning: Duplicate key in file \"/home/ec2-user/.config/matplotlib/matplotlibrc\", line #3\n",
      "  (fname, cnt))\n",
      "/home/ec2-user/anaconda3/envs/tensorflow_p36/lib/python3.6/site-packages/sklearn/cross_validation.py:41: DeprecationWarning: This module was deprecated in version 0.18 in favor of the model_selection module into which all the refactored classes and functions are moved. Also note that the interface of the new CV iterators are different from that of this module. This module will be removed in 0.20.\n",
      "  \"This module will be removed in 0.20.\", DeprecationWarning)\n"
     ]
    }
   ],
   "source": [
    "from utils import max_features, maxlen, embed_size_fastText, embed_size_glove, embed_size_glove_twitter\n",
    "from utils import batch_size, epochs, run_5fold, write_prediction, eval_results\n",
    "from model import get_textRCNN_model\n",
    "import pickle\n",
    "import pandas as pd"
   ]
  },
  {
   "cell_type": "code",
   "execution_count": 2,
   "metadata": {},
   "outputs": [],
   "source": [
    "fastText = pickle.load(open(\"input/fastText.300d.pickle\", \"rb\"))\n",
    "glove = pickle.load(open(\"input/glove.300d.pickle\", \"rb\"))\n",
    "glove_twitter = pickle.load(open(\"input/glove.twitter.200d.pickle\", \"rb\"))"
   ]
  },
  {
   "cell_type": "code",
   "execution_count": 3,
   "metadata": {},
   "outputs": [],
   "source": [
    "x_train = pickle.load(open(\"input/x_train.pickle\", \"rb\"))\n",
    "y_train = pickle.load(open(\"input/y_train.pickle\", \"rb\"))\n",
    "x_test = pickle.load(open(\"input/x_test.pickle\", \"rb\"))\n",
    "submission = pd.read_csv(\"input/sample_submission.csv\")"
   ]
  },
  {
   "cell_type": "markdown",
   "metadata": {},
   "source": [
    "## check different embedding"
   ]
  },
  {
   "cell_type": "code",
   "execution_count": 4,
   "metadata": {},
   "outputs": [],
   "source": [
    "params = {\n",
    "    \"maxlen\": maxlen,\n",
    "    \"max_features\": max_features,\n",
    "    \"num_filter\": 50,\n",
    "    \"reg\": 0.0,\n",
    "    \"dropout\": 0.2,\n",
    "    \"units\": 64,\n",
    "    \"kernel_size\": 3\n",
    "}"
   ]
  },
  {
   "cell_type": "code",
   "execution_count": 5,
   "metadata": {},
   "outputs": [],
   "source": [
    "embeddings = [(fastText, embed_size_fastText, \"fastText\"), (glove, embed_size_glove, \"glove\"), (glove_twitter, embed_size_glove_twitter, \"glove_twitter\")]"
   ]
  },
  {
   "cell_type": "code",
   "execution_count": 6,
   "metadata": {},
   "outputs": [],
   "source": [
    "predictions = {}"
   ]
  },
  {
   "cell_type": "code",
   "execution_count": 7,
   "metadata": {
    "collapsed": true
   },
   "outputs": [
    {
     "name": "stdout",
     "output_type": "stream",
     "text": [
      "\n",
      "********************fastText********************\n",
      "WARNING:tensorflow:From /home/ec2-user/toxic_comments/model.py:33: streaming_auc (from tensorflow.contrib.metrics.python.ops.metric_ops) is deprecated and will be removed in a future version.\n",
      "Instructions for updating:\n",
      "Please switch to tf.metrics.auc. Note that the order of the labels and predictions arguments has been switched.\n",
      "Train on 127656 samples, validate on 31915 samples\n",
      "Epoch 1/50\n",
      " - 606s - loss: 0.0582 - acc: 0.9799 - auc_roc: 0.9242 - val_loss: 0.0442 - val_acc: 0.9831 - val_auc_roc: 0.9755\n",
      "Epoch 2/50\n",
      " - 605s - loss: 0.0403 - acc: 0.9844 - auc_roc: 0.9804 - val_loss: 0.0434 - val_acc: 0.9831 - val_auc_roc: 0.9830\n",
      "Epoch 3/50\n",
      " - 604s - loss: 0.0347 - acc: 0.9863 - auc_roc: 0.9847 - val_loss: 0.0437 - val_acc: 0.9827 - val_auc_roc: 0.9859\n",
      "Epoch 00003: early stopping\n",
      "val loss: 0.043651719338119205\n",
      "val acc: 0.982724922395847\n",
      "val auc roc: 0.9859407091054837\n",
      "\n",
      "Train on 127657 samples, validate on 31914 samples\n",
      "Epoch 1/50\n",
      " - 592s - loss: 0.0642 - acc: 0.9771 - auc_roc: 0.8991 - val_loss: 0.0458 - val_acc: 0.9828 - val_auc_roc: 0.9699\n",
      "Epoch 2/50\n",
      " - 591s - loss: 0.0402 - acc: 0.9844 - auc_roc: 0.9766 - val_loss: 0.0426 - val_acc: 0.9834 - val_auc_roc: 0.9806\n",
      "Epoch 3/50\n",
      " - 590s - loss: 0.0348 - acc: 0.9862 - auc_roc: 0.9830 - val_loss: 0.0431 - val_acc: 0.9832 - val_auc_roc: 0.9845\n",
      "Epoch 00003: early stopping\n",
      "val loss: 0.04310690107424845\n",
      "val acc: 0.9832205085024661\n",
      "val auc roc: 0.9844827198508599\n",
      "\n",
      "Train on 127657 samples, validate on 31914 samples\n",
      "Epoch 1/50\n",
      " - 601s - loss: 0.0596 - acc: 0.9791 - auc_roc: 0.9221 - val_loss: 0.0439 - val_acc: 0.9837 - val_auc_roc: 0.9749\n",
      "Epoch 2/50\n",
      " - 600s - loss: 0.0401 - acc: 0.9843 - auc_roc: 0.9803 - val_loss: 0.0426 - val_acc: 0.9837 - val_auc_roc: 0.9829\n",
      "Epoch 3/50\n",
      " - 600s - loss: 0.0346 - acc: 0.9862 - auc_roc: 0.9848 - val_loss: 0.0418 - val_acc: 0.9837 - val_auc_roc: 0.9860\n",
      "Epoch 4/50\n",
      " - 600s - loss: 0.0295 - acc: 0.9883 - auc_roc: 0.9871 - val_loss: 0.0435 - val_acc: 0.9836 - val_auc_roc: 0.9879\n",
      "Epoch 00004: early stopping\n",
      "val loss: 0.04346955017244307\n",
      "val acc: 0.9836435202683558\n",
      "val auc roc: 0.987891573628634\n",
      "\n",
      "Train on 127657 samples, validate on 31914 samples\n",
      "Epoch 1/50\n",
      " - 591s - loss: 0.0587 - acc: 0.9796 - auc_roc: 0.9242 - val_loss: 0.0436 - val_acc: 0.9833 - val_auc_roc: 0.9746\n",
      "Epoch 2/50\n",
      " - 591s - loss: 0.0401 - acc: 0.9844 - auc_roc: 0.9797 - val_loss: 0.0418 - val_acc: 0.9838 - val_auc_roc: 0.9823\n",
      "Epoch 3/50\n",
      " - 591s - loss: 0.0346 - acc: 0.9863 - auc_roc: 0.9842 - val_loss: 0.0422 - val_acc: 0.9838 - val_auc_roc: 0.9855\n",
      "Epoch 00003: early stopping\n",
      "val loss: 0.042204404435970136\n",
      "val acc: 0.9837531899049212\n",
      "val auc roc: 0.9854523805125044\n",
      "\n",
      "Train on 127657 samples, validate on 31914 samples\n",
      "Epoch 1/50\n",
      " - 592s - loss: 0.0582 - acc: 0.9796 - auc_roc: 0.9282 - val_loss: 0.0448 - val_acc: 0.9826 - val_auc_roc: 0.9755\n",
      "Epoch 2/50\n",
      " - 591s - loss: 0.0397 - acc: 0.9844 - auc_roc: 0.9806 - val_loss: 0.0420 - val_acc: 0.9838 - val_auc_roc: 0.9831\n",
      "Epoch 3/50\n",
      " - 591s - loss: 0.0338 - acc: 0.9865 - auc_roc: 0.9849 - val_loss: 0.0439 - val_acc: 0.9837 - val_auc_roc: 0.9860\n",
      "Epoch 00003: early stopping\n",
      "val loss: 0.04386676421943797\n",
      "val acc: 0.9836591837466969\n",
      "val auc roc: 0.9860247781777686\n",
      "\n",
      "\n",
      "********************glove********************\n",
      "Train on 127656 samples, validate on 31915 samples\n",
      "Epoch 1/50\n",
      " - 592s - loss: 0.0600 - acc: 0.9781 - auc_roc: 0.9221 - val_loss: 0.0461 - val_acc: 0.9821 - val_auc_roc: 0.9747\n",
      "Epoch 2/50\n",
      " - 591s - loss: 0.0400 - acc: 0.9845 - auc_roc: 0.9800 - val_loss: 0.0425 - val_acc: 0.9832 - val_auc_roc: 0.9826\n",
      "Epoch 3/50\n",
      " - 591s - loss: 0.0344 - acc: 0.9866 - auc_roc: 0.9845 - val_loss: 0.0423 - val_acc: 0.9832 - val_auc_roc: 0.9858\n",
      "Epoch 4/50\n",
      " - 591s - loss: 0.0295 - acc: 0.9884 - auc_roc: 0.9870 - val_loss: 0.0442 - val_acc: 0.9833 - val_auc_roc: 0.9877\n",
      "Epoch 00004: early stopping\n",
      "val loss: 0.04424627877254761\n",
      "val acc: 0.983273259715266\n",
      "val auc roc: 0.9877091402210413\n",
      "\n",
      "Train on 127657 samples, validate on 31914 samples\n",
      "Epoch 1/50\n",
      " - 592s - loss: 0.0542 - acc: 0.9806 - auc_roc: 0.9429 - val_loss: 0.0426 - val_acc: 0.9836 - val_auc_roc: 0.9792\n",
      "Epoch 2/50\n",
      " - 591s - loss: 0.0392 - acc: 0.9847 - auc_roc: 0.9829 - val_loss: 0.0417 - val_acc: 0.9839 - val_auc_roc: 0.9848\n",
      "Epoch 3/50\n",
      " - 591s - loss: 0.0340 - acc: 0.9865 - auc_roc: 0.9862 - val_loss: 0.0433 - val_acc: 0.9831 - val_auc_roc: 0.9872\n",
      "Epoch 00003: early stopping\n",
      "val loss: 0.04325564601661426\n",
      "val acc: 0.9830586159969621\n",
      "val auc roc: 0.9871911453993061\n",
      "\n",
      "Train on 127657 samples, validate on 31914 samples\n",
      "Epoch 1/50\n",
      " - 592s - loss: 0.0600 - acc: 0.9784 - auc_roc: 0.9197 - val_loss: 0.0427 - val_acc: 0.9837 - val_auc_roc: 0.9747\n",
      "Epoch 2/50\n",
      " - 592s - loss: 0.0400 - acc: 0.9844 - auc_roc: 0.9800 - val_loss: 0.0409 - val_acc: 0.9842 - val_auc_roc: 0.9827\n",
      "Epoch 3/50\n",
      " - 591s - loss: 0.0347 - acc: 0.9863 - auc_roc: 0.9846 - val_loss: 0.0419 - val_acc: 0.9839 - val_auc_roc: 0.9857\n",
      "Epoch 00003: early stopping\n",
      "val loss: 0.04191904121557782\n",
      "val acc: 0.9839150834861999\n",
      "val auc roc: 0.9857232102985003\n",
      "\n",
      "Train on 127657 samples, validate on 31914 samples\n",
      "Epoch 1/50\n",
      " - 593s - loss: 0.0616 - acc: 0.9777 - auc_roc: 0.9090 - val_loss: 0.0440 - val_acc: 0.9832 - val_auc_roc: 0.9731\n",
      "Epoch 2/50\n",
      " - 591s - loss: 0.0396 - acc: 0.9846 - auc_roc: 0.9788 - val_loss: 0.0437 - val_acc: 0.9833 - val_auc_roc: 0.9818\n",
      "Epoch 3/50\n",
      " - 592s - loss: 0.0343 - acc: 0.9865 - auc_roc: 0.9837 - val_loss: 0.0436 - val_acc: 0.9836 - val_auc_roc: 0.9850\n",
      "Epoch 4/50\n",
      " - 592s - loss: 0.0293 - acc: 0.9885 - auc_roc: 0.9861 - val_loss: 0.0449 - val_acc: 0.9831 - val_auc_roc: 0.9869\n",
      "Epoch 00004: early stopping\n",
      "val loss: 0.04494478933183055\n",
      "val acc: 0.9830847269028823\n",
      "val auc roc: 0.9869068830153873\n",
      "\n",
      "Train on 127657 samples, validate on 31914 samples\n",
      "Epoch 1/50\n",
      " - 593s - loss: 0.0577 - acc: 0.9793 - auc_roc: 0.9258 - val_loss: 0.0429 - val_acc: 0.9833 - val_auc_roc: 0.9760\n",
      "Epoch 2/50\n",
      " - 591s - loss: 0.0395 - acc: 0.9845 - auc_roc: 0.9810 - val_loss: 0.0420 - val_acc: 0.9839 - val_auc_roc: 0.9834\n",
      "Epoch 3/50\n",
      " - 591s - loss: 0.0341 - acc: 0.9864 - auc_roc: 0.9851 - val_loss: 0.0424 - val_acc: 0.9836 - val_auc_roc: 0.9862\n",
      "Epoch 00003: early stopping\n",
      "val loss: 0.04243346363419973\n",
      "val acc: 0.9836069670746692\n",
      "val auc roc: 0.9862058169039268\n",
      "\n",
      "\n",
      "********************glove_twitter********************\n",
      "Train on 127656 samples, validate on 31915 samples\n",
      "Epoch 1/50\n",
      " - 596s - loss: 0.0577 - acc: 0.9797 - auc_roc: 0.9320 - val_loss: 0.0444 - val_acc: 0.9826 - val_auc_roc: 0.9755\n",
      "Epoch 2/50\n",
      " - 595s - loss: 0.0411 - acc: 0.9841 - auc_roc: 0.9801 - val_loss: 0.0424 - val_acc: 0.9833 - val_auc_roc: 0.9826\n",
      "Epoch 3/50\n",
      " - 595s - loss: 0.0363 - acc: 0.9857 - auc_roc: 0.9844 - val_loss: 0.0417 - val_acc: 0.9836 - val_auc_roc: 0.9856\n",
      "Epoch 4/50\n",
      " - 594s - loss: 0.0323 - acc: 0.9871 - auc_roc: 0.9866 - val_loss: 0.0445 - val_acc: 0.9829 - val_auc_roc: 0.9873\n",
      "Epoch 00004: early stopping\n",
      "val loss: 0.04449378389893758\n",
      "val acc: 0.9829442588229286\n",
      "val auc roc: 0.9873224602510577\n",
      "\n",
      "Train on 127657 samples, validate on 31914 samples\n",
      "Epoch 1/50\n",
      " - 579s - loss: 0.0617 - acc: 0.9778 - auc_roc: 0.9196 - val_loss: 0.0452 - val_acc: 0.9827 - val_auc_roc: 0.9728\n",
      "Epoch 2/50\n",
      " - 578s - loss: 0.0414 - acc: 0.9841 - auc_roc: 0.9782 - val_loss: 0.0419 - val_acc: 0.9839 - val_auc_roc: 0.9812\n",
      "Epoch 3/50\n",
      " - 578s - loss: 0.0364 - acc: 0.9857 - auc_roc: 0.9832 - val_loss: 0.0439 - val_acc: 0.9832 - val_auc_roc: 0.9845\n",
      "Epoch 00003: early stopping\n",
      "val loss: 0.04389764092376546\n",
      "val acc: 0.9832257297154529\n",
      "val auc roc: 0.984472928466583\n",
      "\n",
      "Train on 127657 samples, validate on 31914 samples\n",
      "Epoch 1/50\n",
      " - 579s - loss: 0.0644 - acc: 0.9767 - auc_roc: 0.9132 - val_loss: 0.0442 - val_acc: 0.9836 - val_auc_roc: 0.9708\n",
      "Epoch 2/50\n",
      " - 578s - loss: 0.0415 - acc: 0.9841 - auc_roc: 0.9768 - val_loss: 0.0417 - val_acc: 0.9841 - val_auc_roc: 0.9801\n",
      "Epoch 3/50\n",
      " - 578s - loss: 0.0367 - acc: 0.9855 - auc_roc: 0.9823 - val_loss: 0.0416 - val_acc: 0.9842 - val_auc_roc: 0.9838\n",
      "Epoch 4/50\n",
      " - 578s - loss: 0.0324 - acc: 0.9871 - auc_roc: 0.9851 - val_loss: 0.0417 - val_acc: 0.9841 - val_auc_roc: 0.9860\n",
      "Epoch 00004: early stopping\n",
      "val loss: 0.04168182036785088\n",
      "val acc: 0.984087418776269\n",
      "val auc roc: 0.9860282348026613\n",
      "\n",
      "Train on 127657 samples, validate on 31914 samples\n",
      "Epoch 1/50\n"
     ]
    },
    {
     "name": "stdout",
     "output_type": "stream",
     "text": [
      " - 585s - loss: 0.0578 - acc: 0.9796 - auc_roc: 0.9309 - val_loss: 0.0441 - val_acc: 0.9832 - val_auc_roc: 0.9752\n",
      "Epoch 2/50\n",
      " - 583s - loss: 0.0410 - acc: 0.9841 - auc_roc: 0.9799 - val_loss: 0.0427 - val_acc: 0.9834 - val_auc_roc: 0.9826\n",
      "Epoch 3/50\n",
      " - 583s - loss: 0.0362 - acc: 0.9857 - auc_roc: 0.9843 - val_loss: 0.0417 - val_acc: 0.9839 - val_auc_roc: 0.9855\n",
      "Epoch 4/50\n",
      " - 583s - loss: 0.0324 - acc: 0.9871 - auc_roc: 0.9864 - val_loss: 0.0435 - val_acc: 0.9837 - val_auc_roc: 0.9871\n",
      "Epoch 00004: early stopping\n",
      "val loss: 0.04348060028975251\n",
      "val acc: 0.9837427478973045\n",
      "val auc roc: 0.9870649405146419\n",
      "\n",
      "Train on 127657 samples, validate on 31914 samples\n",
      "Epoch 1/50\n",
      " - 596s - loss: 0.0606 - acc: 0.9784 - auc_roc: 0.9168 - val_loss: 0.0440 - val_acc: 0.9832 - val_auc_roc: 0.9727\n",
      "Epoch 2/50\n",
      " - 595s - loss: 0.0413 - acc: 0.9840 - auc_roc: 0.9783 - val_loss: 0.0434 - val_acc: 0.9835 - val_auc_roc: 0.9812\n",
      "Epoch 3/50\n",
      " - 595s - loss: 0.0364 - acc: 0.9856 - auc_roc: 0.9831 - val_loss: 0.0428 - val_acc: 0.9833 - val_auc_roc: 0.9844\n",
      "Epoch 4/50\n",
      " - 595s - loss: 0.0325 - acc: 0.9871 - auc_roc: 0.9856 - val_loss: 0.0445 - val_acc: 0.9834 - val_auc_roc: 0.9862\n",
      "Epoch 00004: early stopping\n",
      "val loss: 0.04446549946672786\n",
      "val acc: 0.9834398480968353\n",
      "val auc roc: 0.986247440224013\n",
      "\n"
     ]
    }
   ],
   "source": [
    "for embed in embeddings:\n",
    "    print (\"\\n********************{}********************\".format(embed[2]))\n",
    "    params[\"embedding_matrix\"] = embed[0]\n",
    "    params[\"embed_size\"] = embed[1]\n",
    "    y_preds = run_5fold(x_train, y_train, x_test, \"loss\", get_textRCNN_model, **params)\n",
    "    predictions[embed[2]] = y_preds"
   ]
  },
  {
   "cell_type": "code",
   "execution_count": 8,
   "metadata": {
    "collapsed": true
   },
   "outputs": [
    {
     "name": "stdout",
     "output_type": "stream",
     "text": [
      "key: fastText\n",
      "loss: 0.04325986784804377 (+/- 0.0005836504640900657)\n",
      "acc: 0.9834002649636574 (+/- 0.00038449136866188275)\n",
      "roc_auc: 0.9859584322550502 (+/- 0.0011113565519461496)\n",
      "\n",
      "\n",
      "\n",
      "key: glove\n",
      "loss: 0.04335984379415399 (+/- 0.001117387021255695)\n",
      "acc: 0.9833877306351958 (+/- 0.0003284499792237359)\n",
      "roc_auc: 0.9867472391676323 (+/- 0.0007056296095893186)\n",
      "\n",
      "\n",
      "\n",
      "key: glove_twitter\n",
      "loss: 0.04360386898940686 (+/- 0.0010324847360624746)\n",
      "acc: 0.9834880006617581 (+/- 0.00039773311054037557)\n",
      "roc_auc: 0.9862272008517914 (+/- 0.001001885184718625)\n",
      "\n",
      "\n",
      "\n"
     ]
    }
   ],
   "source": [
    "eval_results(predictions)"
   ]
  },
  {
   "cell_type": "markdown",
   "metadata": {},
   "source": [
    "##### result: \n",
    "- fastText: \n",
    "\n",
    "loss: 0.04325986784804377 (+/- 0.0005836504640900657)\n",
    "\n",
    "acc: 0.9834002649636574 (+/- 0.00038449136866188275)\n",
    "\n",
    "roc_auc: 0.9859584322550502 (+/- 0.0011113565519461496)\n",
    "\n",
    "- glove: \n",
    "\n",
    "loss: 0.04335984379415399 (+/- 0.001117387021255695)\n",
    "\n",
    "acc: 0.9833877306351958 (+/- 0.0003284499792237359)\n",
    "\n",
    "roc_auc: 0.9867472391676323 (+/- 0.0007056296095893186)\n",
    "\n",
    "- glove.twitter: \n",
    "\n",
    "loss: 0.04360386898940686 (+/- 0.0010324847360624746)\n",
    "\n",
    "acc: 0.9834880006617581 (+/- 0.00039773311054037557)\n",
    "\n",
    "roc_auc: 0.9862272008517914 (+/- 0.001001885184718625)\n"
   ]
  },
  {
   "cell_type": "code",
   "execution_count": 9,
   "metadata": {},
   "outputs": [],
   "source": [
    "opt = predictions['fastText']['pred']"
   ]
  },
  {
   "cell_type": "code",
   "execution_count": 10,
   "metadata": {},
   "outputs": [],
   "source": [
    "write_prediction(opt, submission, \"output/textRCNN.csv\")"
   ]
  },
  {
   "cell_type": "markdown",
   "metadata": {},
   "source": [
    "## check num_filter\n",
    "(suggest values: 100~600: test 100, 300, 500)"
   ]
  },
  {
   "cell_type": "code",
   "execution_count": 11,
   "metadata": {},
   "outputs": [],
   "source": [
    "filters = [100, 300]  # for the result of 50, refer to the previous log"
   ]
  },
  {
   "cell_type": "code",
   "execution_count": 12,
   "metadata": {},
   "outputs": [],
   "source": [
    "params = {\n",
    "    \"maxlen\": maxlen,\n",
    "    \"max_features\": max_features,\n",
    "    \"reg\": 0.0,\n",
    "    \"dropout\": 0.2,\n",
    "    \"units\": 64,\n",
    "    \"kernel_size\": 3,\n",
    "    \"embedding_matrix\": fastText,\n",
    "    \"embed_size\": embed_size_fastText\n",
    "}"
   ]
  },
  {
   "cell_type": "code",
   "execution_count": null,
   "metadata": {},
   "outputs": [
    {
     "name": "stdout",
     "output_type": "stream",
     "text": [
      "\n",
      "********************f = 100********************\n",
      "Train on 127656 samples, validate on 31915 samples\n",
      "Epoch 1/50\n",
      " - 595s - loss: 0.0601 - acc: 0.9785 - auc_roc: 0.9193 - val_loss: 0.0436 - val_acc: 0.9831 - val_auc_roc: 0.9739\n",
      "Epoch 2/50\n",
      " - 594s - loss: 0.0397 - acc: 0.9847 - auc_roc: 0.9797 - val_loss: 0.0421 - val_acc: 0.9834 - val_auc_roc: 0.9827\n",
      "Epoch 3/50\n",
      " - 594s - loss: 0.0339 - acc: 0.9868 - auc_roc: 0.9847 - val_loss: 0.0456 - val_acc: 0.9823 - val_auc_roc: 0.9860\n",
      "Epoch 00003: early stopping\n",
      "val loss: 0.04555348820217478\n",
      "val acc: 0.982296706538355\n",
      "val auc roc: 0.9859510785076997\n",
      "\n",
      "Train on 127657 samples, validate on 31914 samples\n",
      "Epoch 1/50\n",
      " - 594s - loss: 0.0583 - acc: 0.9793 - auc_roc: 0.9238 - val_loss: 0.0431 - val_acc: 0.9834 - val_auc_roc: 0.9746\n",
      "Epoch 2/50\n",
      " - 594s - loss: 0.0395 - acc: 0.9846 - auc_roc: 0.9799 - val_loss: 0.0427 - val_acc: 0.9838 - val_auc_roc: 0.9827\n",
      "Epoch 3/50\n",
      " - 594s - loss: 0.0337 - acc: 0.9868 - auc_roc: 0.9844 - val_loss: 0.0445 - val_acc: 0.9828 - val_auc_roc: 0.9857\n",
      "Epoch 00003: early stopping\n",
      "val loss: 0.0444824572150877\n",
      "val acc: 0.9828497178125569\n",
      "val auc roc: 0.9857086524999537\n",
      "\n",
      "Train on 127657 samples, validate on 31914 samples\n",
      "Epoch 1/50\n",
      " - 601s - loss: 0.0566 - acc: 0.9797 - auc_roc: 0.9310 - val_loss: 0.0436 - val_acc: 0.9832 - val_auc_roc: 0.9773\n",
      "Epoch 2/50\n",
      " - 599s - loss: 0.0394 - acc: 0.9845 - auc_roc: 0.9817 - val_loss: 0.0412 - val_acc: 0.9841 - val_auc_roc: 0.9840\n",
      "Epoch 3/50\n"
     ]
    }
   ],
   "source": [
    "for f in filters:\n",
    "    print (\"\\n********************f = {}********************\".format(f))\n",
    "    params[\"num_filter\"] = f\n",
    "    y_preds = run_5fold(x_train, y_train, x_test, \"loss\", get_textRCNN_model, **params)\n",
    "    predictions[f] = y_preds"
   ]
  },
  {
   "cell_type": "code",
   "execution_count": null,
   "metadata": {},
   "outputs": [],
   "source": [
    "eval_results(predictions)"
   ]
  },
  {
   "cell_type": "markdown",
   "metadata": {},
   "source": [
    "###### result: \n",
    "\n",
    "- f = 50\n",
    "\n",
    "\n",
    "- f = 100\n",
    "\n",
    "\n",
    "\n",
    "- f = 300\n",
    "\n",
    "\n",
    "\n",
    "\n"
   ]
  },
  {
   "cell_type": "code",
   "execution_count": null,
   "metadata": {},
   "outputs": [],
   "source": [
    "opt"
   ]
  },
  {
   "cell_type": "markdown",
   "metadata": {},
   "source": [
    "## check different units\n",
    "(64, 128, 256)"
   ]
  },
  {
   "cell_type": "code",
   "execution_count": null,
   "metadata": {},
   "outputs": [],
   "source": [
    "units = [128, 256]"
   ]
  },
  {
   "cell_type": "code",
   "execution_count": null,
   "metadata": {},
   "outputs": [],
   "source": [
    "for u in units:\n",
    "    print (\"\\n********************u:{}********************\".format(u))\n",
    "    params[\"dense_units\"] = u\n",
    "    predictions[u] = run_5fold_2channels(x_train, y_train, x_test, \"loss\", get_textRCNN_model, **params)"
   ]
  },
  {
   "cell_type": "code",
   "execution_count": null,
   "metadata": {},
   "outputs": [],
   "source": [
    "eval_results(predictions)"
   ]
  },
  {
   "cell_type": "markdown",
   "metadata": {},
   "source": [
    "##### result:\n",
    "- 64: \n",
    "\n",
    "- 128:\n",
    "\n",
    "- 256"
   ]
  },
  {
   "cell_type": "code",
   "execution_count": null,
   "metadata": {},
   "outputs": [],
   "source": [
    "opt = "
   ]
  },
  {
   "cell_type": "markdown",
   "metadata": {},
   "source": [
    "#### tuned params"
   ]
  },
  {
   "cell_type": "code",
   "execution_count": null,
   "metadata": {},
   "outputs": [],
   "source": [
    "params_textRCNN = {\n",
    "    \"maxlen\": maxlen,\n",
    "    \"max_features\": max_features,\n",
    "    \"embedding_size\":,\n",
    "    \"embed_matrix\":,\n",
    "    \"num_filter\": 300,\n",
    "    \"reg\": 0.0,\n",
    "    \"dropout\": 0.2\n",
    "}"
   ]
  },
  {
   "cell_type": "markdown",
   "metadata": {},
   "source": [
    "### write result"
   ]
  },
  {
   "cell_type": "code",
   "execution_count": null,
   "metadata": {},
   "outputs": [],
   "source": [
    "write_prediction(opt, submission, \"output/textRCNN.csv\")"
   ]
  }
 ],
 "metadata": {
  "kernelspec": {
   "display_name": "Python 3",
   "language": "python",
   "name": "python3"
  },
  "language_info": {
   "codemirror_mode": {
    "name": "ipython",
    "version": 3
   },
   "file_extension": ".py",
   "mimetype": "text/x-python",
   "name": "python",
   "nbconvert_exporter": "python",
   "pygments_lexer": "ipython3",
   "version": "3.6.4"
  }
 },
 "nbformat": 4,
 "nbformat_minor": 2
}
