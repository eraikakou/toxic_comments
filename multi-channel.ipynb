{
 "cells": [
  {
   "cell_type": "code",
   "execution_count": 1,
   "metadata": {},
   "outputs": [
    {
     "name": "stderr",
     "output_type": "stream",
     "text": [
      "/home/ec2-user/anaconda3/envs/tensorflow_p36/lib/python3.6/site-packages/h5py/__init__.py:36: FutureWarning: Conversion of the second argument of issubdtype from `float` to `np.floating` is deprecated. In future, it will be treated as `np.float64 == np.dtype(float).type`.\n",
      "  from ._conv import register_converters as _register_converters\n",
      "Using TensorFlow backend.\n",
      "/home/ec2-user/anaconda3/envs/tensorflow_p36/lib/python3.6/site-packages/matplotlib/__init__.py:962: UserWarning: Duplicate key in file \"/home/ec2-user/.config/matplotlib/matplotlibrc\", line #2\n",
      "  (fname, cnt))\n",
      "/home/ec2-user/anaconda3/envs/tensorflow_p36/lib/python3.6/site-packages/matplotlib/__init__.py:962: UserWarning: Duplicate key in file \"/home/ec2-user/.config/matplotlib/matplotlibrc\", line #3\n",
      "  (fname, cnt))\n",
      "/home/ec2-user/anaconda3/envs/tensorflow_p36/lib/python3.6/site-packages/sklearn/cross_validation.py:41: DeprecationWarning: This module was deprecated in version 0.18 in favor of the model_selection module into which all the refactored classes and functions are moved. Also note that the interface of the new CV iterators are different from that of this module. This module will be removed in 0.20.\n",
      "  \"This module will be removed in 0.20.\", DeprecationWarning)\n"
     ]
    }
   ],
   "source": [
    "from utils import max_features, maxlen, embed_size_fastText, embed_size_glove, embed_size_glove_twitter\n",
    "from utils import batch_size, epochs, run_5fold_2channels, eval_results\n",
    "from model import get_multiChannel_CNN_model\n",
    "import pickle\n",
    "import pandas as pd"
   ]
  },
  {
   "cell_type": "code",
   "execution_count": 2,
   "metadata": {},
   "outputs": [],
   "source": [
    "fastText = pickle.load(open(\"input/fastText.300d.pickle\", \"rb\"))\n",
    "glove = pickle.load(open(\"input/glove.300d.pickle\", \"rb\"))\n",
    "glove_twitter = pickle.load(open(\"input/glove.twitter.200d.pickle\", \"rb\"))"
   ]
  },
  {
   "cell_type": "code",
   "execution_count": 3,
   "metadata": {},
   "outputs": [],
   "source": [
    "x_train = pickle.load(open(\"input/x_train.pickle\", \"rb\"))\n",
    "y_train = pickle.load(open(\"input/y_train.pickle\", \"rb\"))\n",
    "x_test = pickle.load(open(\"input/x_test.pickle\", \"rb\"))\n",
    "submission = pd.read_csv(\"input/sample_submission.csv\")"
   ]
  },
  {
   "cell_type": "markdown",
   "metadata": {},
   "source": [
    "### baseline performance\n",
    "\n",
    "- glove \n",
    "loss: 0.04493380877026916 (+/- 0.0008816936950137447)\n",
    "\n",
    "- twitter\n",
    "loss: 0.045302061441733474 (+/- 0.0007931266631046235)"
   ]
  },
  {
   "cell_type": "code",
   "execution_count": 4,
   "metadata": {},
   "outputs": [],
   "source": [
    "params = {\n",
    "    \"maxlen\": maxlen,\n",
    "    \"max_features\": max_features,\n",
    "    \"embed_size1\": embed_size_glove_twitter,\n",
    "    \"embedding_matrix1\": glove_twitter,\n",
    "    \"dropout1\": 0.2,\n",
    "    \"num_filter1\": 50,\n",
    "    \"kernel_size1\": 3,\n",
    "    \"reg1\": 0,\n",
    "    \"embed_size2\": embed_size_glove,\n",
    "    \"embedding_matrix2\": glove,\n",
    "    \"dropout2\": 0.2,\n",
    "    \"num_filter2\": 300,\n",
    "    \"kernel_size2\": 3,\n",
    "    \"reg2\": 0\n",
    "}  "
   ]
  },
  {
   "cell_type": "markdown",
   "metadata": {},
   "source": [
    "## check dense_units"
   ]
  },
  {
   "cell_type": "code",
   "execution_count": 5,
   "metadata": {},
   "outputs": [],
   "source": [
    "units = [64, 128, 256]"
   ]
  },
  {
   "cell_type": "code",
   "execution_count": 6,
   "metadata": {},
   "outputs": [],
   "source": [
    "predictions = {}"
   ]
  },
  {
   "cell_type": "code",
   "execution_count": null,
   "metadata": {},
   "outputs": [],
   "source": [
    "for u in units:\n",
    "    print (\"\\n********************u:{}********************\".format(u))\n",
    "    params[\"dense_units\"] = u\n",
    "    predictions[u] = run_5fold_2channels([x_train, x_train], y_train, x_test, \"loss\", get_multiChannel_CNN_model, **params)"
   ]
  },
  {
   "cell_type": "code",
   "execution_count": null,
   "metadata": {},
   "outputs": [],
   "source": [
    "eval_results(predictions)"
   ]
  },
  {
   "cell_type": "code",
   "execution_count": null,
   "metadata": {},
   "outputs": [],
   "source": [
    "opt"
   ]
  },
  {
   "cell_type": "markdown",
   "metadata": {},
   "source": [
    "##### result\n",
    "\n",
    "- 64:\n",
    "\n",
    "- 128: \n",
    "\n",
    "\n",
    "\n",
    "- 256:\n",
    "\n",
    "\n",
    "\n",
    "- 512:\n",
    "\n",
    "\n",
    "\n",
    "- 768:\n",
    "\n"
   ]
  },
  {
   "cell_type": "code",
   "execution_count": null,
   "metadata": {},
   "outputs": [],
   "source": [
    "write_prediction(opt, submission, \"output/multiCNN.csv\")"
   ]
  },
  {
   "cell_type": "code",
   "execution_count": null,
   "metadata": {},
   "outputs": [],
   "source": [
    "params = {\n",
    "    \"maxlen\": maxlen,\n",
    "    \"max_features\": max_features,\n",
    "    \"embed_size1\": embed_size_fastText,\n",
    "    \"embedding_matrix1\": fastText,\n",
    "    \"dropout1\": 0.1,\n",
    "    \"num_filter1\": 500,\n",
    "    \"kernel_size1\": 9,\n",
    "    \"reg1\": 0,\n",
    "    \"embed_size2\": embed_size_glove,\n",
    "    \"embedding_matrix2\": glove,\n",
    "    \"dropout2\": 0.2,\n",
    "    \"num_filter2\": 500,\n",
    "    \"kernel_size2\": 7,\n",
    "    \"reg2\": 0,\n",
    "    \"dense_units\": 768\n",
    "}  "
   ]
  }
 ],
 "metadata": {
  "kernelspec": {
   "display_name": "Python 3",
   "language": "python",
   "name": "python3"
  },
  "language_info": {
   "codemirror_mode": {
    "name": "ipython",
    "version": 3
   },
   "file_extension": ".py",
   "mimetype": "text/x-python",
   "name": "python",
   "nbconvert_exporter": "python",
   "pygments_lexer": "ipython3",
   "version": "3.6.4"
  }
 },
 "nbformat": 4,
 "nbformat_minor": 2
}
